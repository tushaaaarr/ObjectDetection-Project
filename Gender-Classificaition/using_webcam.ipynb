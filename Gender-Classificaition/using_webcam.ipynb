{
 "cells": [
  {
   "cell_type": "markdown",
   "id": "expired-biodiversity",
   "metadata": {},
   "source": [
    "This code for Gender classification using webcam"
   ]
  },
  {
   "cell_type": "code",
   "execution_count": 18,
   "id": "sought-cocktail",
   "metadata": {},
   "outputs": [],
   "source": [
    "from tensorflow.keras.preprocessing.image import img_to_array\n",
    "from tensorflow.keras.models import load_model\n",
    "import numpy as np\n",
    "import cv2\n",
    "import os\n",
    "import cvlib as cv            "
   ]
  },
  {
   "cell_type": "code",
   "execution_count": 19,
   "id": "tight-german",
   "metadata": {},
   "outputs": [],
   "source": [
    "                   \n",
    "# load model\n",
    "model = load_model('gender_detection.model')"
   ]
  },
  {
   "cell_type": "code",
   "execution_count": 21,
   "id": "theoretical-sheriff",
   "metadata": {},
   "outputs": [],
   "source": [
    "import cvlib as cv\n",
    "import cv2\n",
    "classes = ['Male','Famale']\n",
    "\n",
    "webcam = cv2.VideoCapture(0)\n",
    "\n",
    "if not webcam.isOpened():\n",
    "    print(\"Could not open webcam\")\n",
    "    exit()\n",
    "    \n",
    "\n",
    "\n",
    "while webcam.isOpened():\n",
    "\n",
    "    # read frame from webcam \n",
    "    status, frame = webcam.read()\n",
    "\n",
    "    \n",
    "\n",
    "    # apply face detection\n",
    "    face, confidence = cv.detect_face(frame)\n",
    "\n",
    "    \n",
    "\n",
    "    # loop through detected faces\n",
    "    for idx, f in enumerate(face):\n",
    "        \n",
    "        #get corner points of face rectange\n",
    "        (startX, startY) = f[0], f[1]\n",
    "        (endX, endY) = f[2], f[3]\n",
    "\n",
    "        # draw rectangle over face\n",
    "        cv2.rectangle(frame, (startX,startY), (endX,endY), (0,255,0), 2)\n",
    "\n",
    "        #crop the detected face region\n",
    "        face_crop = np.copy(frame[startY:endY, startX:endX])\n",
    "        \n",
    "        if (face_crop.shape[0]) < 10 or (face_crop.shape[1]) < 10:\n",
    "            continue\n",
    "        \n",
    "        #preprocessing for gender detection model\n",
    "        face_crop = cv2.resize(face_crop, (96,96))\n",
    "        face_crop = face_crop.astype('float')/ 255.0\n",
    "        face_crop = img_to_array(face_crop)\n",
    "        face_crop = np.expand_dims(face_crop, axis = 0)\n",
    "        \n",
    "        #apply gender detection on face\n",
    "        conf = model.predict(face_crop)[0] \n",
    "        \n",
    "        \n",
    "        idx = np.argmax(conf)\n",
    "        label = classes[idx]\n",
    "        label = '{}: {:.2f}%'.format(label, conf[idx] * 100)\\\n",
    "        \n",
    "        Y = startY - 10 if startY -10 > 10 else startY +10\n",
    "        \n",
    "        #write label and confidence above face rectange\n",
    "        cv2.putText(frame, label , (startX, Y), cv2.FONT_HERSHEY_SIMPLEX,\n",
    "                   0.7, (0, 255, 0), 2)\n",
    "        \n",
    "        #display output\n",
    "        cv2.imshow('Gender Detection', frame)\n",
    "        \n",
    "    \n",
    "    \n",
    "    if cv2.waitKey(1) & 0xFF == ord('q'):\n",
    "        break\n",
    "    \n",
    "webcam.release()\n",
    "cv2.destroyAllWindows()        "
   ]
  },
  {
   "cell_type": "code",
   "execution_count": null,
   "id": "informal-interstate",
   "metadata": {},
   "outputs": [],
   "source": []
  },
  {
   "cell_type": "code",
   "execution_count": 14,
   "id": "daily-grace",
   "metadata": {},
   "outputs": [
    {
     "data": {
      "text/plain": [
       "0.9713031"
      ]
     },
     "execution_count": 14,
     "metadata": {},
     "output_type": "execute_result"
    }
   ],
   "source": [
    "confidence[idx]"
   ]
  },
  {
   "cell_type": "code",
   "execution_count": null,
   "id": "received-thanksgiving",
   "metadata": {},
   "outputs": [],
   "source": []
  }
 ],
 "metadata": {
  "kernelspec": {
   "display_name": "Python 3",
   "language": "python",
   "name": "python3"
  },
  "language_info": {
   "codemirror_mode": {
    "name": "ipython",
    "version": 3
   },
   "file_extension": ".py",
   "mimetype": "text/x-python",
   "name": "python",
   "nbconvert_exporter": "python",
   "pygments_lexer": "ipython3",
   "version": "3.8.7"
  }
 },
 "nbformat": 4,
 "nbformat_minor": 5
}
